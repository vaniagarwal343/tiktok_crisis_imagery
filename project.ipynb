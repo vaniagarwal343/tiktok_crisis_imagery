{
 "cells": [
  {
   "cell_type": "code",
   "execution_count": 9,
   "id": "2ff48c5f-28c1-4da2-9ead-046a2213c72e",
   "metadata": {
    "tags": []
   },
   "outputs": [
    {
     "ename": "ModuleNotFoundError",
     "evalue": "No module named 'ace_tools'",
     "output_type": "error",
     "traceback": [
      "\u001b[0;31m---------------------------------------------------------------------------\u001b[0m",
      "\u001b[0;31mModuleNotFoundError\u001b[0m                       Traceback (most recent call last)",
      "Cell \u001b[0;32mIn[9], line 34\u001b[0m\n\u001b[1;32m     31\u001b[0m example_df \u001b[39m=\u001b[39m example_df\u001b[39m.\u001b[39mdrop_duplicates()\n\u001b[1;32m     33\u001b[0m \u001b[39m# Display the cleaned DataFrame\u001b[39;00m\n\u001b[0;32m---> 34\u001b[0m \u001b[39mimport\u001b[39;00m \u001b[39mace_tools\u001b[39;00m \u001b[39mas\u001b[39;00m \u001b[39mtools\u001b[39;00m; tools\u001b[39m.\u001b[39mdisplay_dataframe_to_user(name\u001b[39m=\u001b[39m\u001b[39m\"\u001b[39m\u001b[39mCleaned DataFrame\u001b[39m\u001b[39m\"\u001b[39m, dataframe\u001b[39m=\u001b[39mexample_df)\n",
      "\u001b[0;31mModuleNotFoundError\u001b[0m: No module named 'ace_tools'"
     ]
    }
   ],
   "source": [
    "import pandas as pd\n",
    "\n",
    "# Load the CSV file into a DataFrame\n",
    "example_df = pd.read_csv('/mnt/data/example_coding_sheet.csv')\n",
    "\n",
    "# Step 1: Reset the index to ensure it is in default order\n",
    "example_df = example_df.reset_index(drop=True)\n",
    "\n",
    "# Step 2: Set the first row as the column headers\n",
    "example_df.columns = example_df.iloc[0]\n",
    "\n",
    "# Step 3: Drop the first row as it is now being used as the header\n",
    "example_df = example_df.drop(0).reset_index(drop=True)\n",
    "\n",
    "# Step 4: Remove unnamed columns (those without meaningful headers)\n",
    "example_df = example_df.loc[:, ~example_df.columns.str.contains('^Unnamed')]\n",
    "\n",
    "# Step 5: Handle missing values\n",
    "example_df['like_count'] = pd.to_numeric(example_df['like_count'], errors='coerce').fillna(0).astype(int)\n",
    "example_df['share_count'] = pd.to_numeric(example_df['share_count'], errors='coerce').fillna(0).astype(int)\n",
    "example_df['view_count'] = pd.to_numeric(example_df['view_count'], errors='coerce').fillna(0).astype(int)\n",
    "\n",
    "# Fill missing values in textual columns with default values\n",
    "example_df['username'] = example_df['username'].fillna('Unknown')\n",
    "example_df['video_description'] = example_df['video_description'].fillna('No description')\n",
    "\n",
    "# Step 6: Convert 'create_time' to a datetime object\n",
    "example_df['create_time'] = pd.to_datetime(example_df['create_time'], errors='coerce')\n",
    "\n",
    "# Step 7: Remove any duplicate rows\n",
    "example_df = example_df.drop_duplicates()\n",
    "\n",
    "# Display the cleaned DataFrame using print or display in a notebook\n",
    "example_df.head()  # or print(example_df.head())\n",
    "\n"
   ]
  }
 ],
 "metadata": {
  "kernelspec": {
   "display_name": "Python 3 (ipykernel)",
   "language": "python",
   "name": "python3"
  },
  "language_info": {
   "codemirror_mode": {
    "name": "ipython",
    "version": 3
   },
   "file_extension": ".py",
   "mimetype": "text/x-python",
   "name": "python",
   "nbconvert_exporter": "python",
   "pygments_lexer": "ipython3",
   "version": "3.11.5"
  }
 },
 "nbformat": 4,
 "nbformat_minor": 5
}
